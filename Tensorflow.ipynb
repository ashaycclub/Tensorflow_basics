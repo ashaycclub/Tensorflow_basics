{
  "nbformat": 4,
  "nbformat_minor": 0,
  "metadata": {
    "colab": {
      "name": "Tensorflow.ipynb",
      "version": "0.3.2",
      "provenance": [],
      "collapsed_sections": [],
      "include_colab_link": true
    },
    "kernelspec": {
      "name": "python3",
      "display_name": "Python 3"
    },
    "accelerator": "GPU"
  },
  "cells": [
    {
      "cell_type": "markdown",
      "metadata": {
        "id": "view-in-github",
        "colab_type": "text"
      },
      "source": [
        "<a href=\"https://colab.research.google.com/github/ashaycclub/Tensorflow_basics/blob/master/Tensorflow.ipynb\" target=\"_parent\"><img src=\"https://colab.research.google.com/assets/colab-badge.svg\" alt=\"Open In Colab\"/></a>"
      ]
    },
    {
      "cell_type": "code",
      "metadata": {
        "id": "iuX59bHoYwa-",
        "colab_type": "code",
        "colab": {}
      },
      "source": [
        "# constant in tensorflow\n"
      ],
      "execution_count": 0,
      "outputs": []
    },
    {
      "cell_type": "code",
      "metadata": {
        "id": "dup4Q0CuU31y",
        "colab_type": "code",
        "colab": {}
      },
      "source": [
        "import tensorflow as tf"
      ],
      "execution_count": 0,
      "outputs": []
    },
    {
      "cell_type": "code",
      "metadata": {
        "id": "4xq4LXlsXaV9",
        "colab_type": "code",
        "outputId": "f75acd64-6775-4aae-b011-2a7a9a7f74b2",
        "colab": {
          "base_uri": "https://localhost:8080/",
          "height": 35
        }
      },
      "source": [
        "a=tf.constant(2)\n",
        "b=tf.constant(3)\n",
        "c=tf.add (a,b)\n",
        "print(c)   # does not print as it defines the graph "
      ],
      "execution_count": 0,
      "outputs": [
        {
          "output_type": "stream",
          "text": [
            "Tensor(\"Add:0\", shape=(), dtype=int32)\n"
          ],
          "name": "stdout"
        }
      ]
    },
    {
      "cell_type": "code",
      "metadata": {
        "id": "k6YJEco_X5t1",
        "colab_type": "code",
        "outputId": "b21fee0e-7076-4796-e8ba-4b7c3c5297c2",
        "colab": {
          "base_uri": "https://localhost:8080/",
          "height": 35
        }
      },
      "source": [
        "with tf.Session() as sess:\n",
        "    res=sess.run(c)\n",
        "    print(res)"
      ],
      "execution_count": 0,
      "outputs": [
        {
          "output_type": "stream",
          "text": [
            "5\n"
          ],
          "name": "stdout"
        }
      ]
    },
    {
      "cell_type": "code",
      "metadata": {
        "id": "tKUkmmVXYPlB",
        "colab_type": "code",
        "colab": {}
      },
      "source": [
        "# variables in tensorflow"
      ],
      "execution_count": 0,
      "outputs": []
    },
    {
      "cell_type": "code",
      "metadata": {
        "id": "qg3PQ6a6Y7Sn",
        "colab_type": "code",
        "colab": {}
      },
      "source": [
        "a=tf.constant(3)\n",
        "b=tf.Variable(0)\n",
        "c=tf.add(a,b)\n",
        "d=tf.assign(b,c)\n"
      ],
      "execution_count": 0,
      "outputs": []
    },
    {
      "cell_type": "code",
      "metadata": {
        "id": "xkyWRjuZZWj_",
        "colab_type": "code",
        "outputId": "6e1e1212-3782-46b2-d6aa-f7a1b0b00a66",
        "colab": {
          "base_uri": "https://localhost:8080/",
          "height": 70
        }
      },
      "source": [
        "# intialize all variable\n",
        "var=tf.initialize_all_variables()\n",
        "with tf.Session() as sess:\n",
        "    sess.run(var)                                   # initialize variable\n",
        "    for i in range (3):\n",
        "            sess.run(d)                             # run operation\n",
        "            print(sess.run(b))                      # run for the variable\n"
      ],
      "execution_count": 0,
      "outputs": [
        {
          "output_type": "stream",
          "text": [
            "3\n",
            "6\n",
            "9\n"
          ],
          "name": "stdout"
        }
      ]
    },
    {
      "cell_type": "code",
      "metadata": {
        "id": "zUBha1MbaTbJ",
        "colab_type": "code",
        "colab": {}
      },
      "source": [
        "# Placeholders "
      ],
      "execution_count": 0,
      "outputs": []
    },
    {
      "cell_type": "code",
      "metadata": {
        "id": "OL3pKXwZcVFv",
        "colab_type": "code",
        "colab": {}
      },
      "source": [
        "x=tf.placeholder('float32',shape=[None,None])\n",
        "y=x+3\n"
      ],
      "execution_count": 0,
      "outputs": []
    },
    {
      "cell_type": "code",
      "metadata": {
        "id": "AJohwyjJdjQ7",
        "colab_type": "code",
        "outputId": "9b7d7248-c34e-4b1b-e49d-c87c7eafaa76",
        "colab": {
          "base_uri": "https://localhost:8080/",
          "height": 52
        }
      },
      "source": [
        "with tf.Session() as sess:\n",
        "    print(sess.run(y,feed_dict={x:[[2,3,4],[4,5,56]]}))\n",
        "    "
      ],
      "execution_count": 0,
      "outputs": [
        {
          "output_type": "stream",
          "text": [
            "[[ 5.  6.  7.]\n",
            " [ 7.  8. 59.]]\n"
          ],
          "name": "stdout"
        }
      ]
    },
    {
      "cell_type": "code",
      "metadata": {
        "id": "-xUruao8d51a",
        "colab_type": "code",
        "outputId": "cd6e4c97-212e-4467-e32a-b1cf2e01d006",
        "colab": {
          "base_uri": "https://localhost:8080/",
          "height": 35
        }
      },
      "source": [
        "import tensorflow as tf\n",
        "tf.VERSION\n"
      ],
      "execution_count": 0,
      "outputs": [
        {
          "output_type": "execute_result",
          "data": {
            "text/plain": [
              "'1.14.0-rc1'"
            ]
          },
          "metadata": {
            "tags": []
          },
          "execution_count": 41
        }
      ]
    },
    {
      "cell_type": "code",
      "metadata": {
        "id": "3GF8qb0uyy-i",
        "colab_type": "code",
        "colab": {}
      },
      "source": [
        "# Tensorboard Visualization "
      ],
      "execution_count": 0,
      "outputs": []
    },
    {
      "cell_type": "code",
      "metadata": {
        "id": "w37EfwtXNdIM",
        "colab_type": "code",
        "colab": {}
      },
      "source": [
        "import tensorflow as tf\n",
        "import math"
      ],
      "execution_count": 0,
      "outputs": []
    },
    {
      "cell_type": "code",
      "metadata": {
        "id": "9qUFn_-nNfWR",
        "colab_type": "code",
        "colab": {}
      },
      "source": [
        "with tf.name_scope(\"main\"):\n",
        "    a=tf.add(1,3,name=\"addition_1\")\n",
        "    b=tf.math.divide(2,4,name=\"division_1\")\n",
        "    with tf.name_scope(\"part1\"):\n",
        "        c=tf.multiply(2,4,name=\"multiply_1\")\n",
        "        d=tf.add(3,6,name=\"addition2\")"
      ],
      "execution_count": 0,
      "outputs": []
    },
    {
      "cell_type": "code",
      "metadata": {
        "id": "YYVkFZZxOne_",
        "colab_type": "code",
        "outputId": "0fc67658-8ff4-4800-bd65-ce3080962dba",
        "colab": {
          "base_uri": "https://localhost:8080/",
          "height": 35
        }
      },
      "source": [
        "with tf.Session() as sess:\n",
        "    writer=tf.summary.FileWriter(\"./logs\",sess.graph)\n",
        "    print(sess.run(d))\n",
        "    writer.close()"
      ],
      "execution_count": 0,
      "outputs": [
        {
          "output_type": "stream",
          "text": [
            "9\n"
          ],
          "name": "stdout"
        }
      ]
    },
    {
      "cell_type": "markdown",
      "metadata": {
        "id": "5uKtHAQcXw1S",
        "colab_type": "text"
      },
      "source": [
        "download the event file from log directory\n",
        "\n",
        "got to saved event directory using cmd\n",
        "\n",
        "run tensorboard --logdir = logs\n",
        "\n",
        "file is hosted on a server link\n",
        "\n",
        "copy paste the link to get the graph visualization\n",
        "\n"
      ]
    },
    {
      "cell_type": "code",
      "metadata": {
        "id": "UeS4YQZoPKPG",
        "colab_type": "code",
        "colab": {}
      },
      "source": [
        ""
      ],
      "execution_count": 0,
      "outputs": []
    }
  ]
}
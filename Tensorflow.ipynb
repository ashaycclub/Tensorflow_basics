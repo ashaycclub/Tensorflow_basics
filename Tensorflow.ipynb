{
  "nbformat": 4,
  "nbformat_minor": 0,
  "metadata": {
    "colab": {
      "name": "Tensorflow.ipynb",
      "version": "0.3.2",
      "provenance": [],
      "include_colab_link": true
    },
    "kernelspec": {
      "name": "python3",
      "display_name": "Python 3"
    },
    "accelerator": "GPU"
  },
  "cells": [
    {
      "cell_type": "markdown",
      "metadata": {
        "id": "view-in-github",
        "colab_type": "text"
      },
      "source": [
        "<a href=\"https://colab.research.google.com/github/ashaycclub/Tensorflow_basics/blob/master/Tensorflow.ipynb\" target=\"_parent\"><img src=\"https://colab.research.google.com/assets/colab-badge.svg\" alt=\"Open In Colab\"/></a>"
      ]
    },
    {
      "cell_type": "code",
      "metadata": {
        "id": "iuX59bHoYwa-",
        "colab_type": "code",
        "colab": {}
      },
      "source": [
        "# constant in tensorflow\n"
      ],
      "execution_count": 0,
      "outputs": []
    },
    {
      "cell_type": "code",
      "metadata": {
        "id": "dup4Q0CuU31y",
        "colab_type": "code",
        "colab": {}
      },
      "source": [
        "import tensorflow as tf"
      ],
      "execution_count": 0,
      "outputs": []
    },
    {
      "cell_type": "code",
      "metadata": {
        "id": "4xq4LXlsXaV9",
        "colab_type": "code",
        "colab": {
          "base_uri": "https://localhost:8080/",
          "height": 35
        },
        "outputId": "f75acd64-6775-4aae-b011-2a7a9a7f74b2"
      },
      "source": [
        "a=tf.constant(2)\n",
        "b=tf.constant(3)\n",
        "c=tf.add (a,b)\n",
        "print(c)   # does not print as it defines the graph "
      ],
      "execution_count": 4,
      "outputs": [
        {
          "output_type": "stream",
          "text": [
            "Tensor(\"Add:0\", shape=(), dtype=int32)\n"
          ],
          "name": "stdout"
        }
      ]
    },
    {
      "cell_type": "code",
      "metadata": {
        "id": "k6YJEco_X5t1",
        "colab_type": "code",
        "colab": {
          "base_uri": "https://localhost:8080/",
          "height": 35
        },
        "outputId": "b21fee0e-7076-4796-e8ba-4b7c3c5297c2"
      },
      "source": [
        "with tf.Session() as sess:\n",
        "    res=sess.run(c)\n",
        "    print(res)"
      ],
      "execution_count": 9,
      "outputs": [
        {
          "output_type": "stream",
          "text": [
            "5\n"
          ],
          "name": "stdout"
        }
      ]
    },
    {
      "cell_type": "code",
      "metadata": {
        "id": "tKUkmmVXYPlB",
        "colab_type": "code",
        "colab": {}
      },
      "source": [
        "# variables in tensorflow"
      ],
      "execution_count": 0,
      "outputs": []
    },
    {
      "cell_type": "code",
      "metadata": {
        "id": "qg3PQ6a6Y7Sn",
        "colab_type": "code",
        "colab": {}
      },
      "source": [
        "a=tf.constant(3)\n",
        "b=tf.Variable(0)\n",
        "c=tf.add(a,b)\n",
        "d=tf.assign(b,c)\n"
      ],
      "execution_count": 0,
      "outputs": []
    },
    {
      "cell_type": "code",
      "metadata": {
        "id": "xkyWRjuZZWj_",
        "colab_type": "code",
        "colab": {
          "base_uri": "https://localhost:8080/",
          "height": 70
        },
        "outputId": "6e1e1212-3782-46b2-d6aa-f7a1b0b00a66"
      },
      "source": [
        "# intialize all variable\n",
        "var=tf.initialize_all_variables()\n",
        "with tf.Session() as sess:\n",
        "    sess.run(var)                                   # initialize variable\n",
        "    for i in range (3):\n",
        "            sess.run(d)                             # run operation\n",
        "            print(sess.run(b))                      # run for the variable\n"
      ],
      "execution_count": 30,
      "outputs": [
        {
          "output_type": "stream",
          "text": [
            "3\n",
            "6\n",
            "9\n"
          ],
          "name": "stdout"
        }
      ]
    },
    {
      "cell_type": "code",
      "metadata": {
        "id": "zUBha1MbaTbJ",
        "colab_type": "code",
        "colab": {}
      },
      "source": [
        "# Placeholders "
      ],
      "execution_count": 0,
      "outputs": []
    },
    {
      "cell_type": "code",
      "metadata": {
        "id": "OL3pKXwZcVFv",
        "colab_type": "code",
        "colab": {}
      },
      "source": [
        "x=tf.placeholder('float32',shape=[None,None])\n",
        "y=x+3\n"
      ],
      "execution_count": 0,
      "outputs": []
    },
    {
      "cell_type": "code",
      "metadata": {
        "id": "AJohwyjJdjQ7",
        "colab_type": "code",
        "colab": {
          "base_uri": "https://localhost:8080/",
          "height": 52
        },
        "outputId": "9b7d7248-c34e-4b1b-e49d-c87c7eafaa76"
      },
      "source": [
        "with tf.Session() as sess:\n",
        "    print(sess.run(y,feed_dict={x:[[2,3,4],[4,5,56]]}))\n",
        "    "
      ],
      "execution_count": 36,
      "outputs": [
        {
          "output_type": "stream",
          "text": [
            "[[ 5.  6.  7.]\n",
            " [ 7.  8. 59.]]\n"
          ],
          "name": "stdout"
        }
      ]
    },
    {
      "cell_type": "code",
      "metadata": {
        "id": "-xUruao8d51a",
        "colab_type": "code",
        "colab": {}
      },
      "source": [
        ""
      ],
      "execution_count": 0,
      "outputs": []
    }
  ]
}